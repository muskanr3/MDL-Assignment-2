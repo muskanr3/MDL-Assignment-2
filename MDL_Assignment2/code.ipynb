{
 "cells": [
  {
   "attachments": {},
   "cell_type": "markdown",
   "metadata": {},
   "source": [
    "<h1>TASK 2</h1>"
   ]
  },
  {
   "cell_type": "code",
   "execution_count": 40,
   "metadata": {},
   "outputs": [],
   "source": [
    "import pickle\n",
    "import numpy as np\n",
    "from sklearn.linear_model import LinearRegression\n",
    "import matplotlib.pyplot as plt\n",
    "from sklearn.preprocessing import PolynomialFeatures"
   ]
  },
  {
   "attachments": {},
   "cell_type": "markdown",
   "metadata": {},
   "source": [
    "<h5> IMPORTING THE DATASETS </h5>"
   ]
  },
  {
   "cell_type": "code",
   "execution_count": 41,
   "metadata": {},
   "outputs": [],
   "source": [
    "# Open the pickle file for reading\n",
    "with open(\"train_dataset.pickle\", \"rb\") as f:\n",
    "    arr = pickle.load(f)\n",
    "with open(\"test_dataset.pickle\", \"rb\") as f:\n",
    "    testd = pickle.load(f)"
   ]
  },
  {
   "cell_type": "code",
   "execution_count": 42,
   "metadata": {},
   "outputs": [],
   "source": [
    "np.random.seed(100)\n",
    "np.random.shuffle(arr)\n",
    "# randomly shuffling the data\n",
    "res = np.array_split(arr, 20)"
   ]
  },
  {
   "attachments": {},
   "cell_type": "markdown",
   "metadata": {},
   "source": [
    "<h5> CALCULATING BIAS^2, VARIANCE, MSE AND IRREDUCIBLE ERROR </h5>"
   ]
  },
  {
   "cell_type": "code",
   "execution_count": 43,
   "metadata": {},
   "outputs": [],
   "source": [
    "xTval = testd[:, 0].reshape(-1, 1)\n",
    "yTval = testd[:, 1].reshape(-1, 1)\n",
    "\n",
    "arr = []\n",
    "bias = []\n",
    "var = []\n",
    "mse = []\n",
    "biasSq = []\n",
    "ir = []\n",
    "\n",
    "for deg in range(1, 16):\n",
    "    polyFeatures = PolynomialFeatures(degree=deg)\n",
    "    xtest = polyFeatures.fit_transform(xTval)\n",
    "    sumB = np.zeros(200)\n",
    "    varYPred = []\n",
    "    sumM = np.zeros(200)\n",
    "    for i in range(20):\n",
    "        xtrain = polyFeatures.fit_transform(res[i][:, 0].reshape(-1, 1))\n",
    "        ytrain = res[i][:, 1].reshape(-1, 1)\n",
    "        lr = LinearRegression().fit(xtrain, ytrain)\n",
    "        yPredict = lr.predict(xtest)\n",
    "        subY = np.subtract(yPredict, yTval)\n",
    "        subYsq = np.square(subY)\n",
    "        varYPred.append(yPredict)\n",
    "        sumB = np.add(sumB, subY)\n",
    "        sumM = np.add(sumM, subYsq)\n",
    "\n",
    "    arr = np.absolute((sumB) / 20)\n",
    "    biasSqInt = np.square((sumB) / 20)\n",
    "    biasSq.append(np.mean(biasSqInt))\n",
    "    sumM /= 20\n",
    "    mse.append(np.mean(sumM))\n",
    "    variances = np.var(varYPred, axis=0)\n",
    "    var.append(np.mean(variances))\n",
    "    bias.append(np.mean(arr))\n",
    "    ir.append(np.mean(sumM) - np.mean(biasSqInt) - np.mean(variances))\n"
   ]
  },
  {
   "attachments": {},
   "cell_type": "markdown",
   "metadata": {},
   "source": [
    "<h5> PLOTTING THE GRAPHS </h5>"
   ]
  },
  {
   "cell_type": "code",
   "execution_count": 44,
   "metadata": {},
   "outputs": [
    {
     "data": {
      "image/png": "[encoded data removed]",
      "text/plain": [
       "<Figure size 432x288 with 1 Axes>"
      ]
     },
     "metadata": {
      "needs_background": "light"
     },
     "output_type": "display_data"
    }
   ],
   "source": [
    "deg = [1,2,3,4,5,6,7,8,9,10,11,12,13,14,15]\n",
    "plt.plot(deg[0:10], biasSq[0:10], label = \"Bias Square\")\n",
    "plt.plot(deg[0:10], ir[0:10], label = \"Irreducible Error\")\n",
    "plt.plot(deg[0:10], mse[0:10], label = \"MSE\")\n",
    "plt.plot(deg[0:10], var[0:10], label = \"Variance\")\n",
    "plt.xlabel(\"Model Complexity\")\n",
    "plt.ylabel(\"Error\")\n",
    "plt.legend()\n",
    "plt.show()"
   ]
  },
  {
   "attachments": {},
   "cell_type": "markdown",
   "metadata": {},
   "source": [
    "<h5>TABULATING THE OUTCOMES</h5>"
   ]
  },
  {
   "cell_type": "code",
   "execution_count": 45,
   "metadata": {},
   "outputs": [
    {
     "name": "stdout",
     "output_type": "stream",
     "text": [
      "Degree |  Bias                     |  Bias Square              |  Variance                 |  MSE                      |  Irreducible Error        \n",
      "--------------------------------------------------------------------------------------------------------------------------------------------------\n",
      "1      |  0.269347434813731        |  0.1145311821094268       |  0.010543255949895651     |  0.12507443805932245      |  -1.734723475976807e-18   \n",
      "2      |  0.08597088969438774      |  0.012174557431817525     |  0.0012204083474801422    |  0.01339496577929767      |  2.3852447794681098e-18   \n",
      "3      |  0.03330844622207401      |  0.004720843707298192     |  0.0003701877481543818    |  0.005091031455452575     |  1.4094628242311558e-18   \n",
      "4      |  0.025331018318202905     |  0.0042506178758128       |  0.00044634557793805875   |  0.00469696345375086      |  1.4094628242311558e-18   \n",
      "5      |  0.025252900944629356     |  0.004243467433071845     |  0.0005465717386827752    |  0.00479003917175462      |  3.2526065174565133e-19   \n",
      "6      |  0.026107711686110757     |  0.004308695975445136     |  0.000744096814052807     |  0.005052792789497943     |  4.336808689942018e-19    \n",
      "7      |  0.025190983929929342     |  0.004270334590114568     |  0.0008143086391643617    |  0.00508464322927893      |  1.0842021724855044e-19   \n",
      "8      |  0.025362653957637992     |  0.0043222678329505005    |  0.0011837949232124478    |  0.005506062756162949     |  6.505213034913027e-19    \n",
      "9      |  0.029336508599132036     |  0.004605441853365649     |  0.011992898866267112     |  0.016598340719632763     |  1.734723475976807e-18    \n",
      "10     |  0.03695491258452591      |  0.00810039453234688      |  0.07380265782404047      |  0.08190305235638735      |  0.0                      \n",
      "11     |  0.04167806102583516      |  0.0115330656455911       |  0.14941124918504756      |  0.1609443148306387       |  5.551115123125783e-17    \n",
      "12     |  0.04334779466550367      |  0.010808531481865084     |  0.2067322478822584       |  0.2175407793641235       |  0.0                      \n",
      "13     |  0.04184663930937454      |  0.006667950424241846     |  0.5232691189784373       |  0.5299370694026793       |  1.1102230246251565e-16   \n",
      "14     |  0.10168716728642574      |  0.09336099297354818      |  1.4521304710731764       |  1.5454914640467243       |  -2.220446049250313e-16   \n",
      "15     |  0.17188469094542053      |  0.508886698151225        |  11.875190608071728       |  12.384077306222954       |  1.7763568394002505e-15   \n"
     ]
    }
   ],
   "source": [
    "\n",
    "titles = ['Degree', 'Bias', 'Bias Square', 'Variance', 'MSE', 'Irreducible Error']\n",
    "\n",
    "print('{:<7}|  {:<25}|  {:<25}|  {:<25}|  {:<25}|  {:<25}'.format(*titles))\n",
    "print('-' * 146)\n",
    "for item in zip(deg, bias, biasSq, var, mse, ir):\n",
    "    print('{:<7}|  {:<25}|  {:<25}|  {:<25}|  {:<25}|  {:<25}'.format(*item))"
   ]
  },
  {
   "cell_type": "code",
   "execution_count": 46,
   "metadata": {},
   "outputs": [
    {
     "name": "stdout",
     "output_type": "stream",
     "text": [
      "Bias                     |  Variance                 \n",
      "---------------------------------------------------\n",
      "0.269347434813731        |  0.010543255949895651     \n",
      "0.08597088969438774      |  0.0012204083474801422    \n",
      "0.03330844622207401      |  0.0003701877481543818    \n",
      "0.025331018318202905     |  0.00044634557793805875   \n",
      "0.025252900944629356     |  0.0005465717386827752    \n",
      "0.026107711686110757     |  0.000744096814052807     \n",
      "0.025190983929929342     |  0.0008143086391643617    \n",
      "0.025362653957637992     |  0.0011837949232124478    \n",
      "0.029336508599132036     |  0.011992898866267112     \n",
      "0.03695491258452591      |  0.07380265782404047      \n",
      "0.04167806102583516      |  0.14941124918504756      \n",
      "0.04334779466550367      |  0.2067322478822584       \n",
      "0.04184663930937454      |  0.5232691189784373       \n",
      "0.10168716728642574      |  1.4521304710731764       \n",
      "0.17188469094542053      |  11.875190608071728       \n"
     ]
    }
   ],
   "source": [
    "\n",
    "titles = ['Bias', 'Variance']\n",
    "\n",
    "print('{:<25}|  {:<25}'.format(*titles))\n",
    "print('-' * 51)\n",
    "for item in zip(bias,var):\n",
    "    print('{:<25}|  {:<25}'.format(*item))"
   ]
  },
  {
   "cell_type": "code",
   "execution_count": 47,
   "metadata": {},
   "outputs": [
    {
     "name": "stdout",
     "output_type": "stream",
     "text": [
      "Irreducible Error        \n",
      "-------------------------\n",
      "-1.734723475976807e-18   \n",
      "2.3852447794681098e-18   \n",
      "1.4094628242311558e-18   \n",
      "1.4094628242311558e-18   \n",
      "3.2526065174565133e-19   \n",
      "4.336808689942018e-19    \n",
      "1.0842021724855044e-19   \n",
      "6.505213034913027e-19    \n",
      "1.734723475976807e-18    \n",
      "0.0                      \n",
      "5.551115123125783e-17    \n",
      "0.0                      \n",
      "1.1102230246251565e-16   \n",
      "-2.220446049250313e-16   \n",
      "1.7763568394002505e-15   \n"
     ]
    }
   ],
   "source": [
    "\n",
    "titles = ['Irreducible Error']\n",
    "\n",
    "print('{:<25}'.format(*titles))\n",
    "print('-' * 25)\n",
    "for item in zip(ir):\n",
    "    print('{:<25}'.format(*item))"
   ]
  }
 ],
 "metadata": {
  "kernelspec": {
   "display_name": "Python 3",
   "language": "python",
   "name": "python3"
  },
  "language_info": {
   "codemirror_mode": {
    "name": "ipython",
    "version": 3
   },
   "file_extension": ".py",
   "mimetype": "text/x-python",
   "name": "python",
   "nbconvert_exporter": "python",
   "pygments_lexer": "ipython3",
   "version": "3.8.10"
  },
  "orig_nbformat": 4,
  "vscode": {
   "interpreter": {
    "hash": "916dbcbb3f70747c44a77c7bcd40155683ae19c65e1c03b4aa3499c5328201f1"
   }
  }
 },
 "nbformat": 4,
 "nbformat_minor": 2
}
