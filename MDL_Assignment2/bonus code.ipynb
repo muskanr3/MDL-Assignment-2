{
 "cells": [
  {
   "cell_type": "code",
   "execution_count": 1,
   "metadata": {},
   "outputs": [],
   "source": [
    "import pickle\n",
    "import numpy as np\n",
    "from sklearn.linear_model import LinearRegression\n",
    "import matplotlib.pyplot as plt\n",
    "from sklearn.preprocessing import PolynomialFeatures"
   ]
  },
  {
   "cell_type": "code",
   "execution_count": 2,
   "metadata": {},
   "outputs": [
    {
     "ename": "FileNotFoundError",
     "evalue": "[Errno 2] No such file or directory: 'capacitor_dataset.pickle'",
     "output_type": "error",
     "traceback": [
      "\u001b[0;31m---------------------------------------------------------------------------\u001b[0m",
      "\u001b[0;31mFileNotFoundError\u001b[0m                         Traceback (most recent call last)",
      "\u001b[1;32m/home/muskan/Desktop/mdl/a1/2021101066_assign2/bonus.ipynb Cell 2\u001b[0m in \u001b[0;36m<cell line: 2>\u001b[0;34m()\u001b[0m\n\u001b[1;32m      <a href='vscode-notebook-cell:/home/muskan/Desktop/mdl/a1/2021101066_assign2/bonus.ipynb#W2sZmlsZQ%3D%3D?line=0'>1</a>\u001b[0m \u001b[39m# Open the pickle file for reading\u001b[39;00m\n\u001b[0;32m----> <a href='vscode-notebook-cell:/home/muskan/Desktop/mdl/a1/2021101066_assign2/bonus.ipynb#W2sZmlsZQ%3D%3D?line=1'>2</a>\u001b[0m \u001b[39mwith\u001b[39;00m \u001b[39mopen\u001b[39;49m(\u001b[39m\"\u001b[39;49m\u001b[39mcapacitor_dataset.pickle\u001b[39;49m\u001b[39m\"\u001b[39;49m, \u001b[39m\"\u001b[39;49m\u001b[39mrb\u001b[39;49m\u001b[39m\"\u001b[39;49m) \u001b[39mas\u001b[39;00m f:\n\u001b[1;32m      <a href='vscode-notebook-cell:/home/muskan/Desktop/mdl/a1/2021101066_assign2/bonus.ipynb#W2sZmlsZQ%3D%3D?line=2'>3</a>\u001b[0m     arr \u001b[39m=\u001b[39m pickle\u001b[39m.\u001b[39mload(f)\n",
      "\u001b[0;31mFileNotFoundError\u001b[0m: [Errno 2] No such file or directory: 'capacitor_dataset.pickle'"
     ]
    }
   ],
   "source": [
    "# Open the pickle file for reading\n",
    "with open(\"capacitor_dataset.pickle\", \"rb\") as f:\n",
    "    arr = pickle.load(f)"
   ]
  },
  {
   "cell_type": "code",
   "execution_count": null,
   "metadata": {},
   "outputs": [],
   "source": [
    "t= arr[:,0]\n",
    "q= arr[:,1]\n",
    "logq = np.log(q)\n",
    "# t is x axis\n",
    "# q is y axis\n"
   ]
  },
  {
   "cell_type": "code",
   "execution_count": null,
   "metadata": {},
   "outputs": [
    {
     "name": "stdout",
     "output_type": "stream",
     "text": [
      "Capacitance =  4.999999999999485e-05\n",
      "Resistance =  100000.00000001038\n"
     ]
    }
   ],
   "source": [
    "polyFeatures = PolynomialFeatures(degree=1)\n",
    "xtrain = polyFeatures.fit_transform(t.reshape(-1, 1))\n",
    "ytrain = logq.reshape(-1, 1)\n",
    "# applying the linear regression\n",
    "lr = LinearRegression().fit(xtrain, ytrain)\n",
    "# extracting the coefficients and intercepts to calculate R and C\n",
    "\n",
    "coeff = lr.coef_\n",
    "intercept = lr.intercept_\n",
    "m = coeff[0][1]\n",
    "c = intercept[0]\n",
    "C = np.exp(c) / 5 # capacitance\n",
    "R = -1 / (m * C ) # resistance\n",
    "\n",
    "print(\"Capacitance = \", C )\n",
    "print(\"Resistance = \", R )\n",
    "\n"
   ]
  }
 ],
 "metadata": {
  "kernelspec": {
   "display_name": "Python 3",
   "language": "python",
   "name": "python3"
  },
  "language_info": {
   "codemirror_mode": {
    "name": "ipython",
    "version": 3
   },
   "file_extension": ".py",
   "mimetype": "text/x-python",
   "name": "python",
   "nbconvert_exporter": "python",
   "pygments_lexer": "ipython3",
   "version": "3.8.10"
  },
  "orig_nbformat": 4,
  "vscode": {
   "interpreter": {
    "hash": "916dbcbb3f70747c44a77c7bcd40155683ae19c65e1c03b4aa3499c5328201f1"
   }
  }
 },
 "nbformat": 4,
 "nbformat_minor": 2
}
